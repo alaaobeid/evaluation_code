{
 "cells": [
  {
   "cell_type": "markdown",
   "metadata": {},
   "source": [
    "Importing libraries"
   ]
  },
  {
   "cell_type": "code",
   "execution_count": 1,
   "metadata": {},
   "outputs": [],
   "source": [
    "import torch\n",
    "import numpy as np\n",
    "from dataset import Dataset\n",
    "from arcface import iresnet50\n",
    "from prediction import predict\n",
    "from torchvision import transforms\n",
    "from evaluation import evaluate"
   ]
  },
  {
   "cell_type": "markdown",
   "metadata": {},
   "source": [
    "Model loading"
   ]
  },
  {
   "cell_type": "code",
   "execution_count": 2,
   "metadata": {},
   "outputs": [],
   "source": [
    "model = iresnet50()\n",
    "device = torch.device(\"cuda\" if torch.cuda.is_available() else \"cpu\") \n",
    "state_dict = torch.load('/home/elobaida/insightface/recognition/arcface_torch/work_dirs/custom/model.pt', map_location=device)\n",
    "model.load_state_dict(state_dict, strict=False)\n",
    "model.eval()\n",
    "model = model.cuda()"
   ]
  },
  {
   "cell_type": "markdown",
   "metadata": {},
   "source": [
    "Data transforms and dataloader"
   ]
  },
  {
   "cell_type": "code",
   "execution_count": 13,
   "metadata": {},
   "outputs": [],
   "source": [
    "transformations = transforms.Compose([\n",
    "transforms.Resize((112, 112)),\n",
    "transforms.ToTensor(),           \n",
    "transforms.Normalize(mean=[0.5, 0.5, 0.5], std=[0.5, 0.5, 0.5]),    # Normalize the pixel values\n",
    "    ])\n",
    "\n",
    "dataloader = torch.utils.data.DataLoader(\n",
    "    dataset=Dataset(\n",
    "        dir='/home/elobaida/prediction/bfw-cropped-aligned/white_males',\n",
    "        pairs_path='/home/elobaida/prediction/bfw_pairs/pairs_white_males_bfw.txt',\n",
    "        transform=transformations\n",
    "    ),\n",
    "    batch_size=200,\n",
    "    num_workers=4,\n",
    "    shuffle=False,\n",
    "    pin_memory=False\n",
    ")"
   ]
  },
  {
   "cell_type": "markdown",
   "metadata": {},
   "source": [
    "Prediction"
   ]
  },
  {
   "cell_type": "code",
   "execution_count": 14,
   "metadata": {
    "scrolled": false
   },
   "outputs": [
    {
     "name": "stderr",
     "output_type": "stream",
     "text": [
      "\r",
      "  0%|          | 0/447 [00:00<?, ?it/s]"
     ]
    },
    {
     "name": "stdout",
     "output_type": "stream",
     "text": [
      "Testing on IJB! ...\n"
     ]
    },
    {
     "name": "stderr",
     "output_type": "stream",
     "text": [
      "100%|██████████| 447/447 [04:43<00:00,  1.57it/s]\n"
     ]
    }
   ],
   "source": [
    "distances, labels = \\\n",
    "predict(model=model, \\\n",
    "        dataloader=dataloader)"
   ]
  },
  {
   "cell_type": "markdown",
   "metadata": {},
   "source": [
    "Evaluation"
   ]
  },
  {
   "cell_type": "code",
   "execution_count": 17,
   "metadata": {},
   "outputs": [],
   "source": [
    "# with open('./predictions/dist_labels_white_males_bfw.pkl', 'rb') as f:  # Python 3: open(..., 'rb')\n",
    "#             distances, labels = pickle.load(f)"
   ]
  },
  {
   "cell_type": "code",
   "execution_count": 18,
   "metadata": {},
   "outputs": [],
   "source": [
    "distances = np.concatenate(distances).ravel()\n",
    "labels = np.concatenate(labels).ravel()"
   ]
  },
  {
   "cell_type": "code",
   "execution_count": 19,
   "metadata": {},
   "outputs": [
    {
     "name": "stdout",
     "output_type": "stream",
     "text": [
      "------------------------------------------------Single fold---------------------------------------\n",
      "\n",
      "Accuracy: 0.9993\tPrecision 0.9762\tRecall 0.8227\tROC Area Under Curve: 0.9861\t\n",
      "fpr at tpr 0.95: 0.08199775533108866,  tpr at fpr 0.001: 0.8729096989966555, tpr at fpr 0.0001: 0.8260869565217391\n",
      "At FNR = FPR: FNR = 0.056856187290969896, FPR = 0.05768799102132435\n"
     ]
    }
   ],
   "source": [
    "_, _, _, _, _, eer = evaluate(\n",
    "                        labels=labels,\n",
    "                        distances=distances,\n",
    "                        ts=0,\n",
    "                        fmr_p=0.001\n",
    "                    )"
   ]
  }
 ],
 "metadata": {
  "kernelspec": {
   "display_name": "Python 3",
   "language": "python",
   "name": "python3"
  },
  "language_info": {
   "codemirror_mode": {
    "name": "ipython",
    "version": 3
   },
   "file_extension": ".py",
   "mimetype": "text/x-python",
   "name": "python",
   "nbconvert_exporter": "python",
   "pygments_lexer": "ipython3",
   "version": "3.7.10"
  }
 },
 "nbformat": 4,
 "nbformat_minor": 2
}
